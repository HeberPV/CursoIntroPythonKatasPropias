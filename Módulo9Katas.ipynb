{
 "cells": [
  {
   "cell_type": "markdown",
   "metadata": {},
   "source": [
    "### Ejercicio 1: Trabajar con argumentos en funciones."
   ]
  },
  {
   "cell_type": "code",
   "execution_count": 3,
   "metadata": {},
   "outputs": [
    {
     "name": "stdout",
     "output_type": "stream",
     "text": [
      "Reporte de combustibles:\n",
      "    El promedio de los tanques es: 78.33333333333333\n",
      "    Tanque 1:80\n",
      "    Tanque 2:70\n",
      "    Tanque 3:85\n"
     ]
    }
   ],
   "source": [
    "def informeCombustible(tanque1,tanque2, tanque3):\n",
    "    print(f\"\"\"Reporte de combustibles:\n",
    "    El promedio de los tanques es: {promedioCombustible(tanque1,tanque2, tanque3)}\n",
    "    Tanque 1:{tanque1}\n",
    "    Tanque 2:{tanque2}\n",
    "    Tanque 3:{tanque3}\"\"\")\n",
    "\n",
    "def promedioCombustible(*tanques):\n",
    "    return sum(tanques)/3\n",
    "\n",
    "informeCombustible(80,70,85)"
   ]
  },
  {
   "cell_type": "markdown",
   "metadata": {},
   "source": [
    "### Ejercicio 2: Trabajo con argumentos de palabra clave."
   ]
  },
  {
   "cell_type": "code",
   "execution_count": 10,
   "metadata": {},
   "outputs": [
    {
     "name": "stdout",
     "output_type": "stream",
     "text": [
      "Informe preciso:\n",
      "Destino: Moon\n",
      "Tiempo de viaje: 74\n",
      "Combustible restante: 500000\n",
      "tanque1 tiene 300000 galones restantes\n",
      "tanque2 tiene 200000 galones restantes\n",
      "\n"
     ]
    }
   ],
   "source": [
    "#Función con un informe preciso de la misión. Considera hora de prelanzamiento, \n",
    "# tiempo de vuelo, destino, tanque externo y tanque interno\n",
    "def informePreciso(destino,*minutos, **tanques):\n",
    "    reporte = f\"\"\"Informe preciso:\n",
    "Destino: {destino}\n",
    "Tiempo de viaje: {sum(minutos)}\n",
    "Combustible restante: {sum(tanques.values())}\n",
    "\"\"\"\n",
    "    for nombre, galones in tanques.items():\n",
    "      reporte += f\"{nombre} tiene {galones} galones restantes\\n\"\n",
    "\n",
    "    return reporte\n",
    "\n",
    "print(informePreciso(\"Moon\", 8, 11, 55, tanque1=300000, tanque2=200000))\n",
    "    "
   ]
  }
 ],
 "metadata": {
  "interpreter": {
   "hash": "4258e8deddf97d4f3dc3b87cde6f92b2fdc142116ff15329ebf4db3c4485a12c"
  },
  "kernelspec": {
   "display_name": "Python 3.10.2 64-bit",
   "language": "python",
   "name": "python3"
  },
  "language_info": {
   "codemirror_mode": {
    "name": "ipython",
    "version": 3
   },
   "file_extension": ".py",
   "mimetype": "text/x-python",
   "name": "python",
   "nbconvert_exporter": "python",
   "pygments_lexer": "ipython3",
   "version": "3.10.2"
  },
  "orig_nbformat": 4
 },
 "nbformat": 4,
 "nbformat_minor": 2
}
