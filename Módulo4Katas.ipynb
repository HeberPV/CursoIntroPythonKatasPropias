{
 "cells": [
  {
   "cell_type": "markdown",
   "metadata": {},
   "source": [
    "### Ejercicio 1: Transforma cadenas."
   ]
  },
  {
   "cell_type": "code",
   "execution_count": 4,
   "metadata": {},
   "outputs": [
    {
     "name": "stdout",
     "output_type": "stream",
     "text": [
      "\n",
      "On average, the Moon moves 4cm away from the Earth every year\n",
      "The highest daylight temperature of the Moon is 127 Celsius.\n"
     ]
    }
   ],
   "source": [
    "texto = \"\"\"Interesting facts about the Moon. The Moon is Earth's only satellite. There are several interesting facts about the Moon and how it affects life here on Earth. \n",
    "On average, the Moon moves 4cm away from the Earth every year. This yearly drift is not significant enough to cause immediate effects on Earth. The highest daylight temperature of the Moon is 127 C.\"\"\"\n",
    "\n",
    "textoDividido = texto.split('. ')\n",
    "palabrasBusqueda = [\"average\",\"temperature\",\"distance\"]\n",
    "\n",
    "for sentencia in textoDividido:\n",
    "    for palabra in palabrasBusqueda:\n",
    "        if palabra in sentencia:\n",
    "            print(sentencia.replace('C','Celsius'))\n"
   ]
  },
  {
   "cell_type": "markdown",
   "metadata": {},
   "source": [
    "### Ejercicio 2: Formateando Cadenas"
   ]
  },
  {
   "cell_type": "code",
   "execution_count": 11,
   "metadata": {},
   "outputs": [
    {
     "name": "stdout",
     "output_type": "stream",
     "text": [
      "La Gravedad En Ganímedes \n",
      "-----------------------------------------------------------------------\n",
      "Nombre del Planeta: Marte\n",
      "Gravedad en Ganímedes: 1.4300000000000002 m/s2\n"
     ]
    }
   ],
   "source": [
    "name = \"Ganímedes\"\n",
    "gravity = 0.00143\n",
    "planet = \"Marte\"\n",
    "\n",
    "titulo = f\"La Gravedad en {name} \"\n",
    "\n",
    "plantilla = \"\"\"{0}\n",
    "-----------------------------------------------------------------------\n",
    "Nombre del Planeta: {3}\n",
    "Gravedad en {1}: {2} m/s2\"\"\".format(titulo.title(), name, gravity * 1000, planet)\n",
    "\n",
    "print(plantilla)\n"
   ]
  }
 ],
 "metadata": {
  "interpreter": {
   "hash": "4258e8deddf97d4f3dc3b87cde6f92b2fdc142116ff15329ebf4db3c4485a12c"
  },
  "kernelspec": {
   "display_name": "Python 3.10.2 64-bit",
   "language": "python",
   "name": "python3"
  },
  "language_info": {
   "codemirror_mode": {
    "name": "ipython",
    "version": 3
   },
   "file_extension": ".py",
   "mimetype": "text/x-python",
   "name": "python",
   "nbconvert_exporter": "python",
   "pygments_lexer": "ipython3",
   "version": "3.10.2"
  },
  "orig_nbformat": 4
 },
 "nbformat": 4,
 "nbformat_minor": 2
}
