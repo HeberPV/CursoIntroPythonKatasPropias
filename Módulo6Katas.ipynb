{
 "cells": [
  {
   "cell_type": "markdown",
   "metadata": {},
   "source": [
    "### Ejercicio1: Crear y usar listas de Python."
   ]
  },
  {
   "cell_type": "code",
   "execution_count": 14,
   "metadata": {},
   "outputs": [
    {
     "name": "stdout",
     "output_type": "stream",
     "text": [
      "Los 8 planetas son ['Mercurio', 'Venus', 'Tierra', 'Marte', 'Jupiter', 'Saturno', 'Urano', 'Neptuno']\n",
      "El ultimo elemento agregado es Pluton\n"
     ]
    }
   ],
   "source": [
    "planetas = ['Mercurio', 'Venus', 'Tierra', 'Marte', 'Jupiter', 'Saturno', 'Urano', 'Neptuno']\n",
    "\n",
    "print(f\"Los {len(planetas)} planetas son {planetas}\")\n",
    "\n",
    "planetas.append(\"Pluton\")\n",
    "\n",
    "print(f\"El ultimo elemento agregado es {planetas[-1]}\")"
   ]
  },
  {
   "cell_type": "markdown",
   "metadata": {},
   "source": [
    "### Ejercicio 2: Trabajando con datos de una lista."
   ]
  },
  {
   "cell_type": "code",
   "execution_count": 25,
   "metadata": {},
   "outputs": [
    {
     "name": "stdout",
     "output_type": "stream",
     "text": [
      "Los planetas mas cercanos al sol antes de Tierra son: ['Mercurio', 'Venus']\n",
      "Los planetas mas lejanos al sol despues de Tierra son: ['Marte', 'Jupiter', 'Saturno', 'Urano', 'Neptuno']\n"
     ]
    }
   ],
   "source": [
    "planetas = ['Mercurio', 'Venus', 'Tierra', 'Marte', 'Jupiter', 'Saturno', 'Urano', 'Neptuno']\n",
    "\n",
    "planetaUsuario = input(\"Ingrese el nombre de un planeta: \").title()\n",
    "\n",
    "if planetaUsuario in planetas:\n",
    "    indexPlaneta = planetas.index(planetaUsuario)\n",
    "    print(f\"Los planetas mas cercanos al sol antes de {planetaUsuario} son: {planetas[0:indexPlaneta]}\")\n",
    "    print(f\"Los planetas mas lejanos al sol despues de {planetaUsuario} son: {planetas[indexPlaneta + 1:]}\")\n",
    "elif planetaUsuario == \"Pluton\":\n",
    "    print(\"Ese ya no es conciderado un planeta\")\n",
    "else:\n",
    "    print(\"El planeta ingresado no existe\")"
   ]
  }
 ],
 "metadata": {
  "interpreter": {
   "hash": "4258e8deddf97d4f3dc3b87cde6f92b2fdc142116ff15329ebf4db3c4485a12c"
  },
  "kernelspec": {
   "display_name": "Python 3.10.2 64-bit",
   "language": "python",
   "name": "python3"
  },
  "language_info": {
   "codemirror_mode": {
    "name": "ipython",
    "version": 3
   },
   "file_extension": ".py",
   "mimetype": "text/x-python",
   "name": "python",
   "nbconvert_exporter": "python",
   "pygments_lexer": "ipython3",
   "version": "3.10.2"
  },
  "orig_nbformat": 4
 },
 "nbformat": 4,
 "nbformat_minor": 2
}
