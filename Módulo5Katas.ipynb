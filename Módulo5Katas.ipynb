{
 "cells": [
  {
   "cell_type": "markdown",
   "metadata": {},
   "source": [
    "### Ejercicio1 - Utilizar operadores aritméticos."
   ]
  },
  {
   "cell_type": "code",
   "execution_count": 14,
   "metadata": {},
   "outputs": [
    {
     "name": "stdout",
     "output_type": "stream",
     "text": [
      "Distancia en Kilometros: 628949330\n",
      "Distancia en Millas: 390577534\n"
     ]
    }
   ],
   "source": [
    "planeta1 = 149597870\n",
    "planeta2 = 778547200\n",
    "\n",
    "distanciaKM = abs(int(planeta1) - int(planeta2))\n",
    "distanciaMLL = round(distanciaKM * 0.621)\n",
    "\n",
    "print(f\"Distancia en Kilometros: {distanciaKM}\")\n",
    "print(f\"Distancia en Millas: {distanciaMLL}\")"
   ]
  },
  {
   "cell_type": "markdown",
   "metadata": {},
   "source": [
    "### Ejercicio 2: convierte cadenas en números y usa valores absolutos."
   ]
  },
  {
   "cell_type": "code",
   "execution_count": 12,
   "metadata": {},
   "outputs": [
    {
     "name": "stdout",
     "output_type": "stream",
     "text": [
      "Distancia en Kilometros: 50300000\n",
      "Distancia en Millas: 31236300\n"
     ]
    }
   ],
   "source": [
    "planeta1 = input(\"Ingresa la diastancia al sol del planeta 1: \")\n",
    "planeta2 = input(\"Ingresa la diastancia al sol del planeta 2: \")\n",
    "\n",
    "distanciaKM = abs(int(planeta1) - int(planeta2))\n",
    "distanciaMLL = round(distanciaKM * 0.621)\n",
    "\n",
    "print(f\"Distancia en Kilometros: {distanciaKM}\")\n",
    "print(f\"Distancia en Millas: {distanciaMLL}\")"
   ]
  }
 ],
 "metadata": {
  "interpreter": {
   "hash": "4258e8deddf97d4f3dc3b87cde6f92b2fdc142116ff15329ebf4db3c4485a12c"
  },
  "kernelspec": {
   "display_name": "Python 3.10.2 64-bit",
   "language": "python",
   "name": "python3"
  },
  "language_info": {
   "codemirror_mode": {
    "name": "ipython",
    "version": 3
   },
   "file_extension": ".py",
   "mimetype": "text/x-python",
   "name": "python",
   "nbconvert_exporter": "python",
   "pygments_lexer": "ipython3",
   "version": "3.10.2"
  },
  "orig_nbformat": 4
 },
 "nbformat": 4,
 "nbformat_minor": 2
}
