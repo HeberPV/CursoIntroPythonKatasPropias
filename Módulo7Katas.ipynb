{
 "cells": [
  {
   "cell_type": "markdown",
   "metadata": {},
   "source": [
    "### Ejercicio 1: Creación de un bucle \"while\"."
   ]
  },
  {
   "cell_type": "code",
   "execution_count": 18,
   "metadata": {},
   "outputs": [
    {
     "name": "stdout",
     "output_type": "stream",
     "text": [
      "Los planetas que ingresaste son: \n",
      "Mercurio\n",
      "Venus\n",
      "Tierra\n",
      "Marte\n",
      "Jupiter\n",
      "Saturno\n",
      "Urano\n",
      "Neptuno\n"
     ]
    }
   ],
   "source": [
    "planetaUsuario = \"\"\n",
    "planetas = []\n",
    "\n",
    "while planetaUsuario != \"Done\":\n",
    "    if planetaUsuario:\n",
    "        planetas.append(planetaUsuario)\n",
    "    planetaUsuario = input('Escribe el nombre de un planeta o escribe \"Done\" para salir').title()\n",
    "\n",
    "#Ejercicio 2: Creación de un ciclo \"for\"\n",
    "\n",
    "print(\"Los planetas que ingresaste son: \")\n",
    "for planeta in planetas:\n",
    "    print(planeta)\n",
    "\n"
   ]
  }
 ],
 "metadata": {
  "interpreter": {
   "hash": "4258e8deddf97d4f3dc3b87cde6f92b2fdc142116ff15329ebf4db3c4485a12c"
  },
  "kernelspec": {
   "display_name": "Python 3.10.2 64-bit",
   "language": "python",
   "name": "python3"
  },
  "language_info": {
   "codemirror_mode": {
    "name": "ipython",
    "version": 3
   },
   "file_extension": ".py",
   "mimetype": "text/x-python",
   "name": "python",
   "nbconvert_exporter": "python",
   "pygments_lexer": "ipython3",
   "version": "3.10.2"
  },
  "orig_nbformat": 4
 },
 "nbformat": 4,
 "nbformat_minor": 2
}
