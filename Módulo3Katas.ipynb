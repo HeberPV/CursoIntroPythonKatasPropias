{
 "cells": [
  {
   "cell_type": "markdown",
   "metadata": {},
   "source": [
    "### Problema: un asteroide se acerca."
   ]
  },
  {
   "cell_type": "code",
   "execution_count": 1,
   "metadata": {},
   "outputs": [
    {
     "name": "stdout",
     "output_type": "stream",
     "text": [
      "Un asteroide se acerca a la tierra, C U I D A D I T O\n"
     ]
    }
   ],
   "source": [
    "velociadadAsteroide = 49\n",
    "\n",
    "if velociadadAsteroide > 25:\n",
    "    print(\"Un asteroide se acerca a la tierra, C U I D A D I T O.\")\n",
    "else:\n",
    "    print(\"La tierra esta a salvo.\")"
   ]
  },
  {
   "cell_type": "markdown",
   "metadata": {},
   "source": [
    "### Problema: Una luz en el cielo."
   ]
  },
  {
   "cell_type": "code",
   "execution_count": 5,
   "metadata": {},
   "outputs": [
    {
     "name": "stdout",
     "output_type": "stream",
     "text": [
      "Solo hay nubes en el cielo, continua tu día tranquilo.\n"
     ]
    }
   ],
   "source": [
    "velociadadAsteroide = 19\n",
    "\n",
    "if velociadadAsteroide >= 20:\n",
    "    print(\"Una luz del espacio se asoma en el cielo, deberias ver.\")\n",
    "else:\n",
    "    print(\"Solo hay nubes en el cielo, continua tu día tranquilo.\")"
   ]
  },
  {
   "cell_type": "markdown",
   "metadata": {},
   "source": [
    "### Problema: agregando tamaño de asteroide."
   ]
  },
  {
   "cell_type": "code",
   "execution_count": 16,
   "metadata": {},
   "outputs": [
    {
     "name": "stdout",
     "output_type": "stream",
     "text": [
      "La tierra esta a salvo y las nubes se observan en el cielo.\n"
     ]
    }
   ],
   "source": [
    "velociadadAsteroide = 19\n",
    "tamanioAsteroide = 40\n",
    "\n",
    "if velociadadAsteroide > 25 and tamanioAsteroide > 25:\n",
    "    print('Un asteroide se acerca a la tierra, C U I D A D I T O.')\n",
    "elif velociadadAsteroide >= 20:\n",
    "    print('Una luz del espacio se asoma en el cielo, deberias ver.')\n",
    "else:\n",
    "    print('La tierra esta a salvo y las nubes se observan en el cielo.')"
   ]
  }
 ],
 "metadata": {
  "interpreter": {
   "hash": "4258e8deddf97d4f3dc3b87cde6f92b2fdc142116ff15329ebf4db3c4485a12c"
  },
  "kernelspec": {
   "display_name": "Python 3.10.2 64-bit",
   "language": "python",
   "name": "python3"
  },
  "language_info": {
   "codemirror_mode": {
    "name": "ipython",
    "version": 3
   },
   "file_extension": ".py",
   "mimetype": "text/x-python",
   "name": "python",
   "nbconvert_exporter": "python",
   "pygments_lexer": "ipython3",
   "version": "3.10.2"
  },
  "orig_nbformat": 4
 },
 "nbformat": 4,
 "nbformat_minor": 2
}
