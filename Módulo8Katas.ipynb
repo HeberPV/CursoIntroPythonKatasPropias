{
 "cells": [
  {
   "cell_type": "markdown",
   "metadata": {},
   "source": [
    "### Ejercicio 1: Creación de diccionarios de Python."
   ]
  },
  {
   "cell_type": "code",
   "execution_count": 5,
   "metadata": {},
   "outputs": [
    {
     "name": "stdout",
     "output_type": "stream",
     "text": [
      "El planeta Marte tiene 2 lunas\n",
      "La circunferencia polar de Marte es de 6752 kilometros\n"
     ]
    }
   ],
   "source": [
    "planetaMarte = {\n",
    "    'name':'Marte',\n",
    "    'moons': 2\n",
    "}\n",
    "\n",
    "print(f\"El planeta {planetaMarte['name']} tiene {planetaMarte['moons']} lunas\")\n",
    "\n",
    "planetaMarte['diametro'] = {\n",
    "    'polar': 6752,\n",
    "    'equatorial': 6792\n",
    "}\n",
    "\n",
    "print(f\"La circunferencia polar de {planetaMarte['name']} es de {planetaMarte['diametro']['polar']} kilometros\")\n"
   ]
  },
  {
   "cell_type": "markdown",
   "metadata": {},
   "source": [
    "### Ejercicio 2: Programación dinámica con diccionarios."
   ]
  },
  {
   "cell_type": "code",
   "execution_count": 9,
   "metadata": {},
   "outputs": [
    {
     "name": "stdout",
     "output_type": "stream",
     "text": [
      "El promedio de lunas es: 17.833333333333332\n"
     ]
    }
   ],
   "source": [
    "planetasLunas = {\n",
    "    'mercury': 0,\n",
    "    'venus': 0,\n",
    "    'earth': 1,\n",
    "    'mars': 2,\n",
    "    'jupiter': 79,\n",
    "    'saturn': 82,\n",
    "    'uranus': 27,\n",
    "    'neptune': 14,\n",
    "    'pluto': 5,\n",
    "    'haumea': 2,\n",
    "    'makemake': 1,\n",
    "    'eris': 1\n",
    "}\n",
    "\n",
    "lunas = planetasLunas.values()\n",
    "lunasTotales = 0\n",
    "\n",
    "for luna in lunas:\n",
    "    lunasTotales += luna\n",
    "\n",
    "print(f\"El promedio de lunas es: {lunasTotales/len(planetasLunas)}\")"
   ]
  }
 ],
 "metadata": {
  "interpreter": {
   "hash": "4258e8deddf97d4f3dc3b87cde6f92b2fdc142116ff15329ebf4db3c4485a12c"
  },
  "kernelspec": {
   "display_name": "Python 3.10.2 64-bit",
   "language": "python",
   "name": "python3"
  },
  "language_info": {
   "codemirror_mode": {
    "name": "ipython",
    "version": 3
   },
   "file_extension": ".py",
   "mimetype": "text/x-python",
   "name": "python",
   "nbconvert_exporter": "python",
   "pygments_lexer": "ipython3",
   "version": "3.10.2"
  },
  "orig_nbformat": 4
 },
 "nbformat": 4,
 "nbformat_minor": 2
}
